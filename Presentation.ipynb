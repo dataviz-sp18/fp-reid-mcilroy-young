{
 "cells": [
  {
   "cell_type": "code",
   "execution_count": 1,
   "metadata": {},
   "outputs": [],
   "source": [
    "import simple_id\n",
    "import torch\n",
    "import os\n",
    "import time\n",
    "import gensim\n",
    "import sys\n",
    "%load_ext line_profiler\n",
    "\n",
    "import warnings\n",
    "warnings.filterwarnings('ignore')\n",
    "#from helpers import *"
   ]
  },
  {
   "cell_type": "code",
   "execution_count": 2,
   "metadata": {},
   "outputs": [
    {
     "name": "stdout",
     "output_type": "stream",
     "text": [
      "loading model\n",
      "Tokenizing\n",
      "W2Ving\n",
      "Making predictions\n",
      "Returning\n"
     ]
    }
   ],
   "source": [
    "title = \"Exploration of computers, tech and R\"\n",
    "abstract = 'We used R and Python to do stuff. Then we did more stuff. Our code can be found on Github'\n",
    "w2vPath = 'data/w2v.zip'\n",
    "modelPath = 'data/BiRNN-2-128-260.pt'\n",
    "\n",
    "\n",
    "df = simple_id.makeVarArray(title, abstract, w2vPath, modelPath)"
   ]
  },
  {
   "cell_type": "code",
   "execution_count": 3,
   "metadata": {},
   "outputs": [],
   "source": [
    "df.to_csv('testig.csv')"
   ]
  },
  {
   "cell_type": "code",
   "execution_count": 8,
   "metadata": {},
   "outputs": [
    {
     "data": {
      "text/html": [
       "<div>\n",
       "<style scoped>\n",
       "    .dataframe tbody tr th:only-of-type {\n",
       "        vertical-align: middle;\n",
       "    }\n",
       "\n",
       "    .dataframe tbody tr th {\n",
       "        vertical-align: top;\n",
       "    }\n",
       "\n",
       "    .dataframe thead th {\n",
       "        text-align: right;\n",
       "    }\n",
       "</style>\n",
       "<table border=\"1\" class=\"dataframe\">\n",
       "  <thead>\n",
       "    <tr style=\"text-align: right;\">\n",
       "      <th></th>\n",
       "      <th>we</th>\n",
       "      <th>used</th>\n",
       "      <th>r</th>\n",
       "      <th>and</th>\n",
       "      <th>python</th>\n",
       "      <th>to</th>\n",
       "      <th>do</th>\n",
       "      <th>stuff</th>\n",
       "      <th>.</th>\n",
       "      <th>then</th>\n",
       "      <th>...</th>\n",
       "      <th>more</th>\n",
       "      <th>stuff</th>\n",
       "      <th>.</th>\n",
       "      <th>our</th>\n",
       "      <th>code</th>\n",
       "      <th>can</th>\n",
       "      <th>be</th>\n",
       "      <th>found</th>\n",
       "      <th>on</th>\n",
       "      <th>github</th>\n",
       "    </tr>\n",
       "  </thead>\n",
       "  <tbody>\n",
       "    <tr>\n",
       "      <th>exploration</th>\n",
       "      <td>0.811018</td>\n",
       "      <td>0.879543</td>\n",
       "      <td>0.773802</td>\n",
       "      <td>0.852200</td>\n",
       "      <td>0.818411</td>\n",
       "      <td>0.807030</td>\n",
       "      <td>0.891945</td>\n",
       "      <td>0.942454</td>\n",
       "      <td>0.760025</td>\n",
       "      <td>0.764683</td>\n",
       "      <td>...</td>\n",
       "      <td>0.532350</td>\n",
       "      <td>0.799295</td>\n",
       "      <td>0.756742</td>\n",
       "      <td>0.834764</td>\n",
       "      <td>0.640545</td>\n",
       "      <td>0.880796</td>\n",
       "      <td>0.914067</td>\n",
       "      <td>0.997637</td>\n",
       "      <td>0.929443</td>\n",
       "      <td>0.963700</td>\n",
       "    </tr>\n",
       "    <tr>\n",
       "      <th>of</th>\n",
       "      <td>0.811254</td>\n",
       "      <td>0.879546</td>\n",
       "      <td>0.774187</td>\n",
       "      <td>0.852279</td>\n",
       "      <td>0.818584</td>\n",
       "      <td>0.807285</td>\n",
       "      <td>0.891922</td>\n",
       "      <td>0.942368</td>\n",
       "      <td>0.760492</td>\n",
       "      <td>0.765139</td>\n",
       "      <td>...</td>\n",
       "      <td>0.534045</td>\n",
       "      <td>0.799585</td>\n",
       "      <td>0.757225</td>\n",
       "      <td>0.834916</td>\n",
       "      <td>0.641651</td>\n",
       "      <td>0.880784</td>\n",
       "      <td>0.913998</td>\n",
       "      <td>0.997628</td>\n",
       "      <td>0.929363</td>\n",
       "      <td>0.963619</td>\n",
       "    </tr>\n",
       "    <tr>\n",
       "      <th>computers</th>\n",
       "      <td>0.863581</td>\n",
       "      <td>0.916973</td>\n",
       "      <td>0.833076</td>\n",
       "      <td>0.896226</td>\n",
       "      <td>0.869969</td>\n",
       "      <td>0.860317</td>\n",
       "      <td>0.926157</td>\n",
       "      <td>0.962166</td>\n",
       "      <td>0.821163</td>\n",
       "      <td>0.824971</td>\n",
       "      <td>...</td>\n",
       "      <td>0.604766</td>\n",
       "      <td>0.853976</td>\n",
       "      <td>0.818358</td>\n",
       "      <td>0.882455</td>\n",
       "      <td>0.713002</td>\n",
       "      <td>0.918045</td>\n",
       "      <td>0.942296</td>\n",
       "      <td>0.998528</td>\n",
       "      <td>0.953121</td>\n",
       "      <td>0.976569</td>\n",
       "    </tr>\n",
       "    <tr>\n",
       "      <th>,</th>\n",
       "      <td>0.823762</td>\n",
       "      <td>0.888835</td>\n",
       "      <td>0.788012</td>\n",
       "      <td>0.863024</td>\n",
       "      <td>0.830951</td>\n",
       "      <td>0.819933</td>\n",
       "      <td>0.900477</td>\n",
       "      <td>0.947471</td>\n",
       "      <td>0.774620</td>\n",
       "      <td>0.779093</td>\n",
       "      <td>...</td>\n",
       "      <td>0.548838</td>\n",
       "      <td>0.812503</td>\n",
       "      <td>0.771437</td>\n",
       "      <td>0.846416</td>\n",
       "      <td>0.657332</td>\n",
       "      <td>0.890052</td>\n",
       "      <td>0.921171</td>\n",
       "      <td>0.997871</td>\n",
       "      <td>0.935436</td>\n",
       "      <td>0.967007</td>\n",
       "    </tr>\n",
       "    <tr>\n",
       "      <th>tech</th>\n",
       "      <td>0.810926</td>\n",
       "      <td>0.879272</td>\n",
       "      <td>0.773845</td>\n",
       "      <td>0.851975</td>\n",
       "      <td>0.818249</td>\n",
       "      <td>0.806956</td>\n",
       "      <td>0.891665</td>\n",
       "      <td>0.942202</td>\n",
       "      <td>0.760155</td>\n",
       "      <td>0.764805</td>\n",
       "      <td>...</td>\n",
       "      <td>0.533888</td>\n",
       "      <td>0.799254</td>\n",
       "      <td>0.756888</td>\n",
       "      <td>0.834603</td>\n",
       "      <td>0.641374</td>\n",
       "      <td>0.880509</td>\n",
       "      <td>0.913774</td>\n",
       "      <td>0.997620</td>\n",
       "      <td>0.929169</td>\n",
       "      <td>0.963505</td>\n",
       "    </tr>\n",
       "    <tr>\n",
       "      <th>and</th>\n",
       "      <td>0.809041</td>\n",
       "      <td>0.877906</td>\n",
       "      <td>0.771736</td>\n",
       "      <td>0.850381</td>\n",
       "      <td>0.816400</td>\n",
       "      <td>0.805046</td>\n",
       "      <td>0.890412</td>\n",
       "      <td>0.941467</td>\n",
       "      <td>0.757983</td>\n",
       "      <td>0.762661</td>\n",
       "      <td>...</td>\n",
       "      <td>0.531318</td>\n",
       "      <td>0.797297</td>\n",
       "      <td>0.754700</td>\n",
       "      <td>0.832883</td>\n",
       "      <td>0.638827</td>\n",
       "      <td>0.879150</td>\n",
       "      <td>0.912733</td>\n",
       "      <td>0.997586</td>\n",
       "      <td>0.928291</td>\n",
       "      <td>0.963022</td>\n",
       "    </tr>\n",
       "    <tr>\n",
       "      <th>r</th>\n",
       "      <td>0.762972</td>\n",
       "      <td>0.842356</td>\n",
       "      <td>0.721674</td>\n",
       "      <td>0.809919</td>\n",
       "      <td>0.770635</td>\n",
       "      <td>0.758556</td>\n",
       "      <td>0.857410</td>\n",
       "      <td>0.921035</td>\n",
       "      <td>0.707135</td>\n",
       "      <td>0.712349</td>\n",
       "      <td>...</td>\n",
       "      <td>0.480912</td>\n",
       "      <td>0.749993</td>\n",
       "      <td>0.703617</td>\n",
       "      <td>0.790021</td>\n",
       "      <td>0.584529</td>\n",
       "      <td>0.843623</td>\n",
       "      <td>0.884618</td>\n",
       "      <td>0.996559</td>\n",
       "      <td>0.904230</td>\n",
       "      <td>0.949201</td>\n",
       "    </tr>\n",
       "  </tbody>\n",
       "</table>\n",
       "<p>7 rows × 22 columns</p>\n",
       "</div>"
      ],
      "text/plain": [
       "                   we      used         r       and    python        to  \\\n",
       "exploration  0.811018  0.879543  0.773802  0.852200  0.818411  0.807030   \n",
       "of           0.811254  0.879546  0.774187  0.852279  0.818584  0.807285   \n",
       "computers    0.863581  0.916973  0.833076  0.896226  0.869969  0.860317   \n",
       ",            0.823762  0.888835  0.788012  0.863024  0.830951  0.819933   \n",
       "tech         0.810926  0.879272  0.773845  0.851975  0.818249  0.806956   \n",
       "and          0.809041  0.877906  0.771736  0.850381  0.816400  0.805046   \n",
       "r            0.762972  0.842356  0.721674  0.809919  0.770635  0.758556   \n",
       "\n",
       "                   do     stuff         .      then    ...         more  \\\n",
       "exploration  0.891945  0.942454  0.760025  0.764683    ...     0.532350   \n",
       "of           0.891922  0.942368  0.760492  0.765139    ...     0.534045   \n",
       "computers    0.926157  0.962166  0.821163  0.824971    ...     0.604766   \n",
       ",            0.900477  0.947471  0.774620  0.779093    ...     0.548838   \n",
       "tech         0.891665  0.942202  0.760155  0.764805    ...     0.533888   \n",
       "and          0.890412  0.941467  0.757983  0.762661    ...     0.531318   \n",
       "r            0.857410  0.921035  0.707135  0.712349    ...     0.480912   \n",
       "\n",
       "                stuff         .       our      code       can        be  \\\n",
       "exploration  0.799295  0.756742  0.834764  0.640545  0.880796  0.914067   \n",
       "of           0.799585  0.757225  0.834916  0.641651  0.880784  0.913998   \n",
       "computers    0.853976  0.818358  0.882455  0.713002  0.918045  0.942296   \n",
       ",            0.812503  0.771437  0.846416  0.657332  0.890052  0.921171   \n",
       "tech         0.799254  0.756888  0.834603  0.641374  0.880509  0.913774   \n",
       "and          0.797297  0.754700  0.832883  0.638827  0.879150  0.912733   \n",
       "r            0.749993  0.703617  0.790021  0.584529  0.843623  0.884618   \n",
       "\n",
       "                found        on    github  \n",
       "exploration  0.997637  0.929443  0.963700  \n",
       "of           0.997628  0.929363  0.963619  \n",
       "computers    0.998528  0.953121  0.976569  \n",
       ",            0.997871  0.935436  0.967007  \n",
       "tech         0.997620  0.929169  0.963505  \n",
       "and          0.997586  0.928291  0.963022  \n",
       "r            0.996559  0.904230  0.949201  \n",
       "\n",
       "[7 rows x 22 columns]"
      ]
     },
     "execution_count": 8,
     "metadata": {},
     "output_type": "execute_result"
    }
   ],
   "source": [
    "pandas.DataFrame(a, index=d['title_tokens'], columns=np.sum(d['abstract_tokens']))"
   ]
  },
  {
   "cell_type": "markdown",
   "metadata": {},
   "source": [
    "Previous work: [http://lstm.seas.harvard.edu/client/index.html](http://lstm.seas.harvard.edu/client/index.html)"
   ]
  },
  {
   "cell_type": "markdown",
   "metadata": {},
   "source": [
    "Current interfaces:\n",
    "\n",
    "[Word2Vec visual](http://shiny.reidmcy.com/int/)\n",
    "\n",
    "[Records inspector](http://shiny.reidmcy.com/ntg/)"
   ]
  },
  {
   "cell_type": "code",
   "execution_count": null,
   "metadata": {},
   "outputs": [],
   "source": [
    "title = \"Exploration of computers, tech and R\"\n",
    "abstract = 'We used R and Python to do stuff. Then we did more stuff. Our code can be found on Github'\n",
    "w2vPath = 'w2v/w2v.bin'\n",
    "modelFname = 'data/BiRNN-2-128-260.pt'\n",
    "\n",
    "%lprun -f simple_id.makeVarArray a = simple_id.makeVarArray(title, abstract, w2vPath, modelFname)"
   ]
  },
  {
   "cell_type": "code",
   "execution_count": null,
   "metadata": {},
   "outputs": [],
   "source": [
    "import zipfile\n",
    "import tempfile\n",
    "import io\n",
    "\n",
    "\n",
    "with zipfile.ZipFile('w2v.zip', 'w') as myzip:\n",
    "    for i, word in enumerate(w2v.wv.vocab):\n",
    "        with tempfile.NamedTemporaryFile() as tmp:\n",
    "            np.save(tmp, w2v.wv[word])\n",
    "            tmp.seek(0)\n",
    "            try:\n",
    "                myzip.write(\n",
    "                    filename = tmp.name,\n",
    "                    arcname = word,\n",
    "                )\n",
    "            except:\n",
    "                print(word)\n",
    "                pass"
   ]
  },
  {
   "cell_type": "code",
   "execution_count": null,
   "metadata": {},
   "outputs": [],
   "source": [
    "myzip =  zipfile.ZipFile('w2v.zip', 'r')"
   ]
  },
  {
   "cell_type": "code",
   "execution_count": null,
   "metadata": {},
   "outputs": [],
   "source": [
    "w2v.wv.vocab\n"
   ]
  },
  {
   "cell_type": "code",
   "execution_count": null,
   "metadata": {},
   "outputs": [],
   "source": [
    "with myzip.open('and') as myfile:\n",
    "    f = io.BytesIO(myfile.read())\n",
    "    a = np.load(f)\n",
    "    print(a)"
   ]
  },
  {
   "cell_type": "code",
   "execution_count": null,
   "metadata": {},
   "outputs": [],
   "source": [
    "w2v.wv['test']"
   ]
  },
  {
   "cell_type": "code",
   "execution_count": null,
   "metadata": {},
   "outputs": [],
   "source": [
    "t = tempfile.NamedTemporaryFile()"
   ]
  },
  {
   "cell_type": "code",
   "execution_count": null,
   "metadata": {},
   "outputs": [],
   "source": [
    "t.seek(0)#(b\"SDFDFDFGFDD\")\n"
   ]
  },
  {
   "cell_type": "code",
   "execution_count": null,
   "metadata": {},
   "outputs": [],
   "source": [
    "w2v.wv.syn0."
   ]
  },
  {
   "cell_type": "markdown",
   "metadata": {},
   "source": [
    "# Setting up enviroment"
   ]
  },
  {
   "cell_type": "code",
   "execution_count": null,
   "metadata": {},
   "outputs": [],
   "source": [
    "w2v = gensim.models.word2vec.Word2Vec.load('w2v/w2v.bin')\n",
    "Net = torch.load(modelFname).cuda()"
   ]
  },
  {
   "cell_type": "code",
   "execution_count": null,
   "metadata": {},
   "outputs": [],
   "source": [
    "df_sample = pandas.read_csv('data/Other social sciences.csv', error_bad_lines = False)\n",
    "df_sample.index = df_sample['wos_id']"
   ]
  },
  {
   "cell_type": "markdown",
   "metadata": {},
   "source": [
    "# Picking example record"
   ]
  },
  {
   "cell_type": "code",
   "execution_count": null,
   "metadata": {},
   "outputs": [],
   "source": [
    "row = df_sample.loc['WOS:000206783400002']"
   ]
  },
  {
   "cell_type": "code",
   "execution_count": null,
   "metadata": {},
   "outputs": [],
   "source": [
    "row_dict = dict(row)\n",
    "row_dict['title_tokens'] = Tokens[row_dict['wos_id']][0]\n",
    "row_dict['abstract_tokens'] = Tokens[row_dict['wos_id']][1]\n",
    "\n",
    "\n",
    "row_dict['title_vecs'] = simple_id.genVecSeq(row_dict['title_tokens'], w2v)\n",
    "row_dict['abstract_vecs'] = simple_id.genVecSeq(row_dict['abstract_tokens'], w2v)\n",
    "row_dict['class'] = 1"
   ]
  },
  {
   "cell_type": "code",
   "execution_count": null,
   "metadata": {},
   "outputs": [],
   "source": [
    "predictionDict = Net.predictRow(row_dict)\n",
    "predictionDict['wos_id'] = row['wos_id']\n",
    "predictionDict['title'] = row['title']"
   ]
  },
  {
   "cell_type": "code",
   "execution_count": null,
   "metadata": {},
   "outputs": [],
   "source": [
    "predictionDict"
   ]
  },
  {
   "cell_type": "markdown",
   "metadata": {},
   "source": [
    "# Activations Visualized"
   ]
  },
  {
   "cell_type": "code",
   "execution_count": null,
   "metadata": {},
   "outputs": [],
   "source": [
    "simple_id.compareRows([row_dict], Net)"
   ]
  },
  {
   "cell_type": "code",
   "execution_count": null,
   "metadata": {},
   "outputs": [],
   "source": [
    "row_dict['title_tokens']"
   ]
  },
  {
   "cell_type": "markdown",
   "metadata": {},
   "source": [
    "# Effects of varying input"
   ]
  },
  {
   "cell_type": "code",
   "execution_count": null,
   "metadata": {},
   "outputs": [],
   "source": [
    "for i in range(len(row_dict['title_tokens'])):\n",
    "    newDict = {\n",
    "    'abstract' : row_dict['abstract'],\n",
    "    'abstract_tokens' : row_dict['abstract_tokens'],\n",
    "    #'title' : row_dict['title'],\n",
    "    'title_tokens' : row_dict['title_tokens'][:i + 1],   \n",
    "    }\n",
    "    pred = Net.predictRow(newDict, w2v=w2v)\n",
    "    print(\"propP is: {:.2f}% with title: '{}'\".format(pred['probPos'] * 100, ' '.join(newDict['title_tokens'])))"
   ]
  },
  {
   "cell_type": "code",
   "execution_count": null,
   "metadata": {},
   "outputs": [],
   "source": [
    "for i in range(len(row_dict['abstract_tokens'])):\n",
    "    newDict = {\n",
    "    'abstract' : row_dict['abstract'],\n",
    "    'abstract_tokens' : row_dict['abstract_tokens'][:i + 1],\n",
    "    'title' : row_dict['title'],\n",
    "    'title_tokens' : row_dict['title_tokens'],   \n",
    "    }\n",
    "    pred = Net.predictRow(newDict, w2v=w2v)\n",
    "    print(\"propP is: {:.2f}% with abstract only {} sentences long\".format(pred['probPos'] * 100, i + 1))"
   ]
  },
  {
   "cell_type": "code",
   "execution_count": null,
   "metadata": {},
   "outputs": [],
   "source": [
    "preds1 = []\n",
    "for i in range(len(row_dict['title_tokens'])):\n",
    "    predT = []\n",
    "    for j in range(len(row_dict['abstract_tokens'])):\n",
    "        newDict = {\n",
    "            'abstract_tokens' : row_dict['abstract_tokens'][:j+1],\n",
    "            'title_tokens' : row_dict['title_tokens'][:i + 1],   \n",
    "            }\n",
    "        pred = Net.predictRow(newDict, w2v=w2v)\n",
    "        predT.append(float(pred['probPos']))\n",
    "    preds1.append(predT)"
   ]
  },
  {
   "cell_type": "code",
   "execution_count": null,
   "metadata": {},
   "outputs": [],
   "source": [
    "fig, ax = plt.subplots(figsize = (15, 7))\n",
    "seaborn.heatmap(preds1, ax = ax, vmin=0, vmax=1, cmap='RdBu')\n",
    "ax.set_ylabel('Word title Terminated at')\n",
    "ax.set_xlabel('Number of Sentences in Abstract')\n",
    "ax.set_yticklabels(reversed(row_dict['title_tokens']),rotation = 35, fontsize = 20)\n",
    "row_dict['title_tokens']\n",
    "ax.set_title(\"Effects of varying input on DNN output probabilties\");"
   ]
  },
  {
   "cell_type": "code",
   "execution_count": null,
   "metadata": {},
   "outputs": [],
   "source": [
    "preds = []\n",
    "for i in range(len(row_dict['title_tokens'])):\n",
    "    predT = []\n",
    "    for j in range(len(row_dict['abstract_tokens'])):\n",
    "        for k in range(len(row_dict['abstract_tokens'][j])):\n",
    "            newDict = {\n",
    "                'abstract_tokens' : row_dict['abstract_tokens'][:j] + [row_dict['abstract_tokens'][j][:k+1]],\n",
    "                'title_tokens' : row_dict['title_tokens'][:i + 1],   \n",
    "                }\n",
    "            pred = Net.predictRow(newDict, w2v=w2v)\n",
    "            predT.append(float(pred['probPos']))\n",
    "    print(\"{:.0f}% done\".format(i / len(row_dict['title_tokens']) * 100), end = '\\r')\n",
    "    preds.append(predT)"
   ]
  },
  {
   "cell_type": "code",
   "execution_count": null,
   "metadata": {},
   "outputs": [],
   "source": [
    "fig, ax = plt.subplots(figsize = (15, 7))\n",
    "seaborn.heatmap(preds, ax = ax, vmin=0, vmax=1, cmap='RdBu')\n",
    "ax.set_ylabel('Word title Terminated at')\n",
    "ax.set_xlabel('Number of Words in Abstract')\n",
    "ax.set_yticklabels(reversed(row_dict['title_tokens']),rotation = 35, fontsize = 20)\n",
    "ax.set_title(\"Effects of varying Input on DNN output probabilties\");"
   ]
  },
  {
   "cell_type": "markdown",
   "metadata": {},
   "source": [
    "# Interactive Mode Example"
   ]
  },
  {
   "cell_type": "code",
   "execution_count": null,
   "metadata": {},
   "outputs": [],
   "source": [
    "title = \"Exploration of computers, tech and R\"\n",
    "abstract = 'We used R and Python to do stuff. Then we did more stuff. Our code can be found on Github'\n",
    "title2 = \"Effects of input elaboration on vocabulary acquisition through reading by Korean learners of English as a foreign language\"\n",
    "\n",
    "abstract2 = \"\"\"This article investigates whether (a) lexical elaboration (LE), typographical enhancement (TE), or a combination, and (b) explicit OF implicit,LE affect 297 Korean learner's acquisition of English vocabulary. The learners were asked to read one of six versions of an experimental text that contained 26 target words. The study adopted a 2 X 3 MANOVA (:design with TE and LE as two independent variables and form- and meaning-recognition vocabulary posttests as two dependent variables. The TE had two levels, enhanced and unenhanced, and the LE lipid three levels, explicit, implicit, and unelaborated. The results were (a) LE alone did not aid form recognition of vocabulary, (b) explicit LE alone aided meaning recognition of vocabulary, (c) TE alone did not aid form and meaning recognition of vocabulary, (d) LE and TE combined did not aid form recognition of vocabulary, (e) both explicit and implicit LE aided meaning recognition of vocabulary, (f) explicit and implicit LE (lid riot differ in their effect on form and meaning recognition of vocabulary, and (g) whether a text was further enhanced in addition to either explicit or implicit LE did not seem to affect the acquisition of the previously Unknown words' forms or meanings.\"\"\""
   ]
  },
  {
   "cell_type": "code",
   "execution_count": null,
   "metadata": {},
   "outputs": [],
   "source": [
    "title = \"Exploration of humans, society and R\"\n",
    "abstract = ' Our code can be found on Github. We used methods and techniques to do stuff. Weber Freud and vocabulary acquisition were explored. Then we did more stuff.'"
   ]
  },
  {
   "cell_type": "code",
   "execution_count": null,
   "metadata": {},
   "outputs": [],
   "source": [
    "exampleDict = {\n",
    "    'title_tokens' : simple_id.tokenizer(title),\n",
    "    'abstract_tokens' : simple_id.sentinizer(abstract),   \n",
    "    }\n",
    "pred = Net.predictRow(newDict, w2v=w2v)\n",
    "print(float(pred['probPos']))"
   ]
  },
  {
   "cell_type": "code",
   "execution_count": null,
   "metadata": {},
   "outputs": [],
   "source": [
    "predA = makeVaryingArray(exampleDict, Net, w2v)\n",
    "fig, ax = plt.subplots(figsize = (15, 7))\n",
    "seaborn.heatmap(predA, ax = ax, vmin=0, vmax=1, cmap='RdBu', annot=True)\n",
    "ax.set_ylabel('Title went to ...')\n",
    "ax.set_xlabel('Abstract went to ...')\n",
    "ax.set_yticklabels(exampleDict['title_tokens'],rotation = 55, fontsize = 20)\n",
    "ax.set_xticklabels([' '.join(t)[:25] + '...' for t in exampleDict['abstract_tokens']],rotation = 0, fontsize = 10)\n",
    "ax.set_title(\"Effects of varying Input on output probabilty of computational\")\n",
    "plt.savefig('images/occ.pdf', format='pdf');"
   ]
  },
  {
   "cell_type": "code",
   "execution_count": null,
   "metadata": {},
   "outputs": [],
   "source": [
    "exampleDict = {\n",
    "    'title_tokens' : simple_id.tokenizer(title2),\n",
    "    'abstract_tokens' : simple_id.sentinizer(abstract2),   \n",
    "    }\n",
    "pred = Net.predictRow(exampleDict, w2v=w2v)\n",
    "print(float(pred['probPos']))"
   ]
  },
  {
   "cell_type": "code",
   "execution_count": null,
   "metadata": {},
   "outputs": [],
   "source": [
    "predA = makeVaryingArray(exampleDict, Net, w2v)\n",
    "fig, ax = plt.subplots(figsize = (15, 7))\n",
    "seaborn.heatmap(predA, ax = ax, vmin=0, vmax=1, cmap='RdBu')\n",
    "ax.set_xlabel('Number of Sentences in Abstract')\n",
    "ax.set_ylabel('Word title Terminated at')\n",
    "ax.set_yticklabels(reversed(exampleDict['title_tokens']),rotation = 35, fontsize = 20)\n",
    "ax.set_title(\"Effects of varying Input on DNN output probabilties\");"
   ]
  },
  {
   "cell_type": "code",
   "execution_count": null,
   "metadata": {},
   "outputs": [],
   "source": [
    "exampleDict = {\n",
    "    'title_tokens' : simple_id.tokenizer(title2),\n",
    "    'abstract_tokens' : simple_id.sentinizer(abstract2 + ' Computer github code model python R C software simulation'),   \n",
    "    }\n",
    "pred = Net.predictRow(exampleDict, w2v=w2v)\n",
    "print(float(pred['probPos']))"
   ]
  },
  {
   "cell_type": "code",
   "execution_count": null,
   "metadata": {},
   "outputs": [],
   "source": [
    "predA = makeVaryingArray(exampleDict, Net, w2v)\n",
    "fig, ax = plt.subplots(figsize = (15, 7))\n",
    "seaborn.heatmap(predA, ax = ax, vmin=0, vmax=1, cmap='RdBu')\n",
    "ax.set_xlabel('Number of Sentences in Abstract')\n",
    "ax.set_ylabel('Word title Terminated at')\n",
    "ax.set_yticklabels(reversed(exampleDict['title_tokens']),rotation = 35, fontsize = 20)\n",
    "ax.set_title(\"Effects of varying Input on DNN output probabilties\");"
   ]
  },
  {
   "cell_type": "markdown",
   "metadata": {},
   "source": [
    "# Making the images for a bunch of examples"
   ]
  },
  {
   "cell_type": "code",
   "execution_count": null,
   "metadata": {},
   "outputs": [],
   "source": [
    "for i, row in df_sample.iloc[:5].iterrows():\n",
    "    print(row['title'])\n",
    "    row_dict = dict(row)\n",
    "    row_dict['title_tokens'] = Tokens[row_dict['wos_id']][0]\n",
    "    row_dict['abstract_tokens'] = Tokens[row_dict['wos_id']][1]\n",
    "    predA = makeVaryingArray(row_dict, Net, w2v)\n",
    "    fig, ax = plt.subplots(figsize = (15, 7))\n",
    "    seaborn.heatmap(predA, ax = ax, vmin=0, vmax=1, cmap='RdBu')\n",
    "    ax.set_xlabel('Number of Sentences in Abstract')\n",
    "    ax.set_ylabel('Word title Terminated at')\n",
    "    ax.set_yticklabels(reversed(row_dict['title_tokens']),rotation = 35, fontsize = 20)\n",
    "    ax.set_title(\"Effects of varying Input on DNN output probabilties:\\n{}\".format(row['title']))\n",
    "    fig.tight_layout()\n",
    "    plt.savefig('images/pred_var_{}.pdf'.format(row['title'][:50].replace(' ', '_')), format = 'pdf')\n",
    "    \n",
    "for i, row in df_sample.iloc[-5:].iterrows():\n",
    "    print(row['title'])\n",
    "    predA = makeVaryingArray(row_dict, Net, w2v)\n",
    "    fig, ax = plt.subplots(figsize = (15, 7))\n",
    "    seaborn.heatmap(predA, ax = ax, vmin=0, vmax=1, cmap='RdBu')\n",
    "    ax.set_ylabel('Word title Terminated at')\n",
    "    ax.set_yticklabels(reversed(row_dict['title_tokens']),rotation = 35, fontsize = 20)\n",
    "    ax.set_xlabel('Number of Sentences in Abstract')\n",
    "    ax.set_title(\"Effects of varying Input on DNN output probabilties:\\n{}\".format(row['title']))\n",
    "    fig.tight_layout()\n",
    "    plt.savefig('images/pred_var_{}.pdf'.format(row['title'][:50].replace(' ', '_').replace('/', '')), format = 'pdf')"
   ]
  },
  {
   "cell_type": "markdown",
   "metadata": {},
   "source": [
    "# Next steps\n",
    "\n",
    "+ Get interface with R setup\n",
    "+ Make interactive\n",
    "+ Add real explanations\n",
    "+ Maybe add more modes"
   ]
  },
  {
   "cell_type": "markdown",
   "metadata": {},
   "source": [
    "Is it truthful?\n",
    "\n",
    "Is it functional?\n",
    "\n",
    "Is it beautiful?\n",
    "\n",
    "Is it insightful?\n",
    "\n",
    "Is it enlightening?"
   ]
  }
 ],
 "metadata": {
  "kernelspec": {
   "display_name": "Python 3",
   "language": "python",
   "name": "python3"
  },
  "language_info": {
   "codemirror_mode": {
    "name": "ipython",
    "version": 3
   },
   "file_extension": ".py",
   "mimetype": "text/x-python",
   "name": "python",
   "nbconvert_exporter": "python",
   "pygments_lexer": "ipython3",
   "version": "3.6.5"
  }
 },
 "nbformat": 4,
 "nbformat_minor": 2
}
